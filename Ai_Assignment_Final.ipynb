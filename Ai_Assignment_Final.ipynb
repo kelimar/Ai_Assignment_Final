{
 "cells": [
  {
   "cell_type": "code",
   "execution_count": 44,
   "id": "c91b47d9",
   "metadata": {},
   "outputs": [
    {
     "name": "stdout",
     "output_type": "stream",
     "text": [
      "<class 'pandas.core.frame.DataFrame'>\n",
      "RangeIndex: 50000 entries, 0 to 49999\n",
      "Data columns (total 2 columns):\n",
      " #   Column     Non-Null Count  Dtype \n",
      "---  ------     --------------  ----- \n",
      " 0   review     50000 non-null  object\n",
      " 1   sentiment  50000 non-null  object\n",
      "dtypes: object(2)\n",
      "memory usage: 781.4+ KB\n"
     ]
    }
   ],
   "source": [
    "import pandas as pd\n",
    "import numpy as np\n",
    "import re # code removes punctuation, 'br' tags, capital letters, stop words, symbols\n",
    "from nltk.corpus import stopwords\n",
    "from nltk.stem import PorterStemmer\n",
    "from sklearn.model_selection import train_test_split\n",
    "from sklearn.feature_extraction.text import CountVectorizer\n",
    "from sklearn.neighbors import KNeighborsClassifier\n",
    "from sklearn.metrics import accuracy_score\n",
    "from sklearn.model_selection import cross_val_score\n",
    "from sklearn.metrics import confusion_matrix\n",
    "import seaborn as sns\n",
    "import matplotlib.pyplot as plt\n",
    "from sklearn.metrics import f1_score\n",
    "\n",
    "\n",
    "#review_dataframe = pd.read_csv(\"IMDB Dataset.csv\")\n",
    "review_dataframe = pd.read_csv('./IMDB Dataset.csv', na_values=[\"n/a\", \"NaN\", \"Na\", \"\", \" \"])\n",
    "review_dataframe.info() # to check whether there are any null values "
   ]
  },
  {
   "cell_type": "code",
   "execution_count": 45,
   "id": "2239959d",
   "metadata": {},
   "outputs": [
    {
     "data": {
      "text/html": [
       "<div>\n",
       "<style scoped>\n",
       "    .dataframe tbody tr th:only-of-type {\n",
       "        vertical-align: middle;\n",
       "    }\n",
       "\n",
       "    .dataframe tbody tr th {\n",
       "        vertical-align: top;\n",
       "    }\n",
       "\n",
       "    .dataframe thead th {\n",
       "        text-align: right;\n",
       "    }\n",
       "</style>\n",
       "<table border=\"1\" class=\"dataframe\">\n",
       "  <thead>\n",
       "    <tr style=\"text-align: right;\">\n",
       "      <th></th>\n",
       "      <th>review</th>\n",
       "      <th>sentiment</th>\n",
       "    </tr>\n",
       "  </thead>\n",
       "  <tbody>\n",
       "    <tr>\n",
       "      <th>0</th>\n",
       "      <td>One of the other reviewers has mentioned that ...</td>\n",
       "      <td>positive</td>\n",
       "    </tr>\n",
       "    <tr>\n",
       "      <th>1</th>\n",
       "      <td>A wonderful little production. &lt;br /&gt;&lt;br /&gt;The...</td>\n",
       "      <td>positive</td>\n",
       "    </tr>\n",
       "    <tr>\n",
       "      <th>2</th>\n",
       "      <td>I thought this was a wonderful way to spend ti...</td>\n",
       "      <td>positive</td>\n",
       "    </tr>\n",
       "    <tr>\n",
       "      <th>3</th>\n",
       "      <td>Basically there's a family where a little boy ...</td>\n",
       "      <td>negative</td>\n",
       "    </tr>\n",
       "    <tr>\n",
       "      <th>4</th>\n",
       "      <td>Petter Mattei's \"Love in the Time of Money\" is...</td>\n",
       "      <td>positive</td>\n",
       "    </tr>\n",
       "  </tbody>\n",
       "</table>\n",
       "</div>"
      ],
      "text/plain": [
       "                                              review sentiment\n",
       "0  One of the other reviewers has mentioned that ...  positive\n",
       "1  A wonderful little production. <br /><br />The...  positive\n",
       "2  I thought this was a wonderful way to spend ti...  positive\n",
       "3  Basically there's a family where a little boy ...  negative\n",
       "4  Petter Mattei's \"Love in the Time of Money\" is...  positive"
      ]
     },
     "execution_count": 45,
     "metadata": {},
     "output_type": "execute_result"
    }
   ],
   "source": [
    "review_dataframe.head() # view the data set"
   ]
  },
  {
   "cell_type": "code",
   "execution_count": 46,
   "id": "ec4297b0",
   "metadata": {},
   "outputs": [
    {
     "name": "stdout",
     "output_type": "stream",
     "text": [
      "                                                  review sentiment\n",
      "3537   Quite what the producers of this appalling ada...  negative\n",
      "3769   My favourite police series of all time turns t...  positive\n",
      "4391   Beautiful film, pure Cassavetes style. Gena Ro...  positive\n",
      "6352   If you liked the Grinch movie... go watch that...  negative\n",
      "6479   I want very much to believe that the above quo...  negative\n",
      "...                                                  ...       ...\n",
      "49912  This is an incredible piece of drama and power...  positive\n",
      "49950  This was a very brief episode that appeared in...  negative\n",
      "49984  Hello it is I Derrick Cannon and I welcome you...  negative\n",
      "49986  This movie is a disgrace to the Major League F...  negative\n",
      "49991  Les Visiteurs, the first movie about the medie...  negative\n",
      "\n",
      "[418 rows x 2 columns]\n"
     ]
    }
   ],
   "source": [
    "# check for and remove any duplicates in the data set\n",
    "duplicated_data = review_dataframe[review_dataframe.duplicated()]\n",
    "print(duplicated_data)"
   ]
  },
  {
   "cell_type": "code",
   "execution_count": 47,
   "id": "0b451fed",
   "metadata": {},
   "outputs": [
    {
     "name": "stderr",
     "output_type": "stream",
     "text": [
      "C:\\Users\\keliz\\AppData\\Local\\Temp\\ipykernel_10224\\2683112229.py:1: FutureWarning: The frame.append method is deprecated and will be removed from pandas in a future version. Use pandas.concat instead.\n",
      "  temp_df = review_dataframe.append(review_dataframe) # checking for duplicates\n"
     ]
    },
    {
     "data": {
      "text/plain": [
       "(100000, 2)"
      ]
     },
     "execution_count": 47,
     "metadata": {},
     "output_type": "execute_result"
    }
   ],
   "source": [
    "temp_df = review_dataframe.append(review_dataframe) # checking for duplicates\n",
    "temp_df.shape"
   ]
  },
  {
   "cell_type": "code",
   "execution_count": 48,
   "id": "30f2e452",
   "metadata": {},
   "outputs": [
    {
     "data": {
      "text/plain": [
       "(49582, 2)"
      ]
     },
     "execution_count": 48,
     "metadata": {},
     "output_type": "execute_result"
    }
   ],
   "source": [
    "#temp_df = temp_df.drop_duplicates() # removes any duplicates \n",
    "#temp_df.shape\n",
    "\n",
    "review_dataframe = review_dataframe.drop_duplicates()\n",
    "review_dataframe.shape"
   ]
  },
  {
   "cell_type": "code",
   "execution_count": 49,
   "id": "9f8ba86d",
   "metadata": {},
   "outputs": [
    {
     "name": "stdout",
     "output_type": "stream",
     "text": [
      "<class 'pandas.core.frame.DataFrame'>\n",
      "Int64Index: 49582 entries, 0 to 49999\n",
      "Data columns (total 2 columns):\n",
      " #   Column     Non-Null Count  Dtype \n",
      "---  ------     --------------  ----- \n",
      " 0   review     49582 non-null  object\n",
      " 1   sentiment  49582 non-null  object\n",
      "dtypes: object(2)\n",
      "memory usage: 1.1+ MB\n"
     ]
    }
   ],
   "source": [
    "review_dataframe.info()"
   ]
  },
  {
   "cell_type": "code",
   "execution_count": 50,
   "id": "740f43a2",
   "metadata": {
    "scrolled": true
   },
   "outputs": [
    {
     "name": "stderr",
     "output_type": "stream",
     "text": [
      "C:\\Users\\keliz\\AppData\\Local\\Temp\\ipykernel_10224\\3166895390.py:4: SettingWithCopyWarning: \n",
      "A value is trying to be set on a copy of a slice from a DataFrame.\n",
      "Try using .loc[row_indexer,col_indexer] = value instead\n",
      "\n",
      "See the caveats in the documentation: https://pandas.pydata.org/pandas-docs/stable/user_guide/indexing.html#returning-a-view-versus-a-copy\n",
      "  review_dataframe.loc[:,\"review\"] = review_dataframe.review.apply(lambda x: str.lower(x))\n",
      "C:\\Users\\keliz\\AppData\\Local\\Temp\\ipykernel_10224\\3166895390.py:6: SettingWithCopyWarning: \n",
      "A value is trying to be set on a copy of a slice from a DataFrame.\n",
      "Try using .loc[row_indexer,col_indexer] = value instead\n",
      "\n",
      "See the caveats in the documentation: https://pandas.pydata.org/pandas-docs/stable/user_guide/indexing.html#returning-a-view-versus-a-copy\n",
      "  review_dataframe.loc[:,\"review\"] = review_dataframe.review.apply(lambda x : \" \".join(re.findall('[\\w]+',x)))\n",
      "C:\\Users\\keliz\\AppData\\Local\\Temp\\ipykernel_10224\\3166895390.py:8: SettingWithCopyWarning: \n",
      "A value is trying to be set on a copy of a slice from a DataFrame.\n",
      "Try using .loc[row_indexer,col_indexer] = value instead\n",
      "\n",
      "See the caveats in the documentation: https://pandas.pydata.org/pandas-docs/stable/user_guide/indexing.html#returning-a-view-versus-a-copy\n",
      "  review_dataframe['review'] = review_dataframe['review'].str.replace(r'br', '', regex=True)\n",
      "C:\\Users\\keliz\\AppData\\Local\\Temp\\ipykernel_10224\\3166895390.py:10: FutureWarning: The default value of regex will change from True to False in a future version.\n",
      "  review_dataframe['review'] = review_dataframe['review'].str.replace('\\d+', '')\n",
      "C:\\Users\\keliz\\AppData\\Local\\Temp\\ipykernel_10224\\3166895390.py:10: SettingWithCopyWarning: \n",
      "A value is trying to be set on a copy of a slice from a DataFrame.\n",
      "Try using .loc[row_indexer,col_indexer] = value instead\n",
      "\n",
      "See the caveats in the documentation: https://pandas.pydata.org/pandas-docs/stable/user_guide/indexing.html#returning-a-view-versus-a-copy\n",
      "  review_dataframe['review'] = review_dataframe['review'].str.replace('\\d+', '')\n"
     ]
    },
    {
     "name": "stdout",
     "output_type": "stream",
     "text": [
      "                                                  review sentiment\n",
      "0      one reviewers mentioned watching oz episode ho...  positive\n",
      "1      wonderful little production filming technique ...  positive\n",
      "2      thought wonderful way spend time hot summer we...  positive\n",
      "3      basically family little boy jake thinks zombie...  negative\n",
      "4      petter mattei love time money visually stunnin...  positive\n",
      "...                                                  ...       ...\n",
      "49995  thought movie right good job creative original...  positive\n",
      "49996  bad plot bad dialogue bad acting idiotic direc...  negative\n",
      "49997  catholic taught parochial elementary schools n...  negative\n",
      "49998  going disagree previous comment side maltin on...  negative\n",
      "49999  one expects star trek movies high art fans exp...  negative\n",
      "\n",
      "[49582 rows x 2 columns]\n"
     ]
    },
    {
     "name": "stderr",
     "output_type": "stream",
     "text": [
      "C:\\Users\\keliz\\AppData\\Local\\Temp\\ipykernel_10224\\3166895390.py:12: SettingWithCopyWarning: \n",
      "A value is trying to be set on a copy of a slice from a DataFrame.\n",
      "Try using .loc[row_indexer,col_indexer] = value instead\n",
      "\n",
      "See the caveats in the documentation: https://pandas.pydata.org/pandas-docs/stable/user_guide/indexing.html#returning-a-view-versus-a-copy\n",
      "  review_dataframe['review'] = review_dataframe['review'].apply(lambda x: ' '.join([word for word in x.split() if word not in (stop)]))\n"
     ]
    }
   ],
   "source": [
    "# code to pre-process data\n",
    "stop = stopwords.words('english')\n",
    "# converts text to lowercase\n",
    "review_dataframe.loc[:,\"review\"] = review_dataframe.review.apply(lambda x: str.lower(x))\n",
    "# removes the punctuation from the code\n",
    "review_dataframe.loc[:,\"review\"] = review_dataframe.review.apply(lambda x : \" \".join(re.findall('[\\w]+',x)))\n",
    "# removes remaining 'br' from the code after removing punctuation \n",
    "review_dataframe['review'] = review_dataframe['review'].str.replace(r'br', '', regex=True)\n",
    "# remove the numbers from the reviews\n",
    "review_dataframe['review'] = review_dataframe['review'].str.replace('\\d+', '')\n",
    "# applies top variable to remove any stop words\n",
    "review_dataframe['review'] = review_dataframe['review'].apply(lambda x: ' '.join([word for word in x.split() if word not in (stop)]))\n",
    "print(review_dataframe)"
   ]
  },
  {
   "cell_type": "code",
   "execution_count": 51,
   "id": "49838d9a",
   "metadata": {},
   "outputs": [
    {
     "data": {
      "text/html": [
       "<div>\n",
       "<style scoped>\n",
       "    .dataframe tbody tr th:only-of-type {\n",
       "        vertical-align: middle;\n",
       "    }\n",
       "\n",
       "    .dataframe tbody tr th {\n",
       "        vertical-align: top;\n",
       "    }\n",
       "\n",
       "    .dataframe thead th {\n",
       "        text-align: right;\n",
       "    }\n",
       "</style>\n",
       "<table border=\"1\" class=\"dataframe\">\n",
       "  <thead>\n",
       "    <tr style=\"text-align: right;\">\n",
       "      <th></th>\n",
       "      <th>review</th>\n",
       "      <th>sentiment</th>\n",
       "    </tr>\n",
       "  </thead>\n",
       "  <tbody>\n",
       "    <tr>\n",
       "      <th>0</th>\n",
       "      <td>[one, reviewers, mentioned, watching, oz, epis...</td>\n",
       "      <td>positive</td>\n",
       "    </tr>\n",
       "    <tr>\n",
       "      <th>1</th>\n",
       "      <td>[wonderful, little, production, filming, techn...</td>\n",
       "      <td>positive</td>\n",
       "    </tr>\n",
       "    <tr>\n",
       "      <th>2</th>\n",
       "      <td>[thought, wonderful, way, spend, time, hot, su...</td>\n",
       "      <td>positive</td>\n",
       "    </tr>\n",
       "    <tr>\n",
       "      <th>3</th>\n",
       "      <td>[basically, family, little, boy, jake, thinks,...</td>\n",
       "      <td>negative</td>\n",
       "    </tr>\n",
       "    <tr>\n",
       "      <th>4</th>\n",
       "      <td>[petter, mattei, love, time, money, visually, ...</td>\n",
       "      <td>positive</td>\n",
       "    </tr>\n",
       "  </tbody>\n",
       "</table>\n",
       "</div>"
      ],
      "text/plain": [
       "                                              review sentiment\n",
       "0  [one, reviewers, mentioned, watching, oz, epis...  positive\n",
       "1  [wonderful, little, production, filming, techn...  positive\n",
       "2  [thought, wonderful, way, spend, time, hot, su...  positive\n",
       "3  [basically, family, little, boy, jake, thinks,...  negative\n",
       "4  [petter, mattei, love, time, money, visually, ...  positive"
      ]
     },
     "execution_count": 51,
     "metadata": {},
     "output_type": "execute_result"
    }
   ],
   "source": [
    "# tokenizes the text into individual words \n",
    "review_dataframe['review'] = review_dataframe['review'].apply(lambda text: text.split())\n",
    "review_dataframe.head()"
   ]
  },
  {
   "cell_type": "code",
   "execution_count": 52,
   "id": "748b7f7e",
   "metadata": {},
   "outputs": [
    {
     "data": {
      "text/html": [
       "<div>\n",
       "<style scoped>\n",
       "    .dataframe tbody tr th:only-of-type {\n",
       "        vertical-align: middle;\n",
       "    }\n",
       "\n",
       "    .dataframe tbody tr th {\n",
       "        vertical-align: top;\n",
       "    }\n",
       "\n",
       "    .dataframe thead th {\n",
       "        text-align: right;\n",
       "    }\n",
       "</style>\n",
       "<table border=\"1\" class=\"dataframe\">\n",
       "  <thead>\n",
       "    <tr style=\"text-align: right;\">\n",
       "      <th></th>\n",
       "      <th>review</th>\n",
       "      <th>sentiment</th>\n",
       "    </tr>\n",
       "  </thead>\n",
       "  <tbody>\n",
       "    <tr>\n",
       "      <th>0</th>\n",
       "      <td>[one, review, mention, watch, oz, episod, hook...</td>\n",
       "      <td>positive</td>\n",
       "    </tr>\n",
       "    <tr>\n",
       "      <th>1</th>\n",
       "      <td>[wonder, littl, product, film, techniqu, unass...</td>\n",
       "      <td>positive</td>\n",
       "    </tr>\n",
       "    <tr>\n",
       "      <th>2</th>\n",
       "      <td>[thought, wonder, way, spend, time, hot, summe...</td>\n",
       "      <td>positive</td>\n",
       "    </tr>\n",
       "    <tr>\n",
       "      <th>3</th>\n",
       "      <td>[basic, famili, littl, boy, jake, think, zombi...</td>\n",
       "      <td>negative</td>\n",
       "    </tr>\n",
       "    <tr>\n",
       "      <th>4</th>\n",
       "      <td>[petter, mattei, love, time, money, visual, st...</td>\n",
       "      <td>positive</td>\n",
       "    </tr>\n",
       "  </tbody>\n",
       "</table>\n",
       "</div>"
      ],
      "text/plain": [
       "                                              review sentiment\n",
       "0  [one, review, mention, watch, oz, episod, hook...  positive\n",
       "1  [wonder, littl, product, film, techniqu, unass...  positive\n",
       "2  [thought, wonder, way, spend, time, hot, summe...  positive\n",
       "3  [basic, famili, littl, boy, jake, think, zombi...  negative\n",
       "4  [petter, mattei, love, time, money, visual, st...  positive"
      ]
     },
     "execution_count": 52,
     "metadata": {},
     "output_type": "execute_result"
    }
   ],
   "source": [
    "# method to stem the words using import stemmer from lab \n",
    "# returns stemmed words after checking each words in the review olumn\n",
    "def stemming(words):\n",
    "    stemmer = PorterStemmer()\n",
    "    return [stemmer.stem(word) for word in words]\n",
    "\n",
    "review_dataframe['review'] = review_dataframe['review'].apply(stemming)\n",
    "review_dataframe.head()"
   ]
  },
  {
   "cell_type": "code",
   "execution_count": 54,
   "id": "db93de89",
   "metadata": {},
   "outputs": [
    {
     "name": "stdout",
     "output_type": "stream",
     "text": [
      "Validation Accuracy of KNN:  0.7022939248802622\n"
     ]
    },
    {
     "name": "stderr",
     "output_type": "stream",
     "text": [
      "C:\\Users\\keliz\\AppData\\Local\\Temp\\ipykernel_10224\\3103535208.py:30: FutureWarning: The series.append method is deprecated and will be removed from pandas in a future version. Use pandas.concat instead.\n",
      "  X_training_val = X_training.append(X_val)\n",
      "C:\\Users\\keliz\\AppData\\Local\\Temp\\ipykernel_10224\\3103535208.py:31: FutureWarning: The series.append method is deprecated and will be removed from pandas in a future version. Use pandas.concat instead.\n",
      "  y_training_val = y_training.append(y_val)\n"
     ]
    },
    {
     "name": "stdout",
     "output_type": "stream",
     "text": [
      "K-Fold Cross-validation Scores: [0.71187295 0.71288127 0.70229392 0.72422486 0.71817494 0.71961674\n",
      " 0.71709531 0.70625315 0.72592032 0.702471  ]\n",
      "Mean Accuracy: 0.71\n",
      "Standard Deviation: 0.01\n",
      "Testing Accuracy of KNN: 0.7153372995865686\n"
     ]
    },
    {
     "data": {
      "image/png": "[encoded data removed]",
      "text/plain": [
       "<Figure size 576x432 with 2 Axes>"
      ]
     },
     "metadata": {
      "needs_background": "light"
     },
     "output_type": "display_data"
    },
    {
     "name": "stdout",
     "output_type": "stream",
     "text": [
      "F1 Score of KNN: 0.7131680225117569\n"
     ]
    },
    {
     "data": {
      "image/png": "[encoded data removed]",
      "text/plain": [
       "<Figure size 576x432 with 1 Axes>"
      ]
     },
     "metadata": {
      "needs_background": "light"
     },
     "output_type": "display_data"
    },
    {
     "data": {
      "image/png": "[encoded data removed]",
      "text/plain": [
       "<Figure size 576x432 with 1 Axes>"
      ]
     },
     "metadata": {
      "needs_background": "light"
     },
     "output_type": "display_data"
    }
   ],
   "source": [
    "# joins text to remove list of objects error - affects tokenization\n",
    "review_dataframe['review'] = review_dataframe['review'].apply(lambda x: ' '.join(x))\n",
    "\n",
    "# 80% train and 20% test\n",
    "X_training, X_testing, y_training, y_testing = train_test_split(review_dataframe['review'], review_dataframe['sentiment'], test_size=0.2,  random_state=42)\n",
    "# 10% assigned for validation\n",
    "X_training, X_val, y_training, y_val = train_test_split(X_training, y_training, test_size=0.1, random_state=42)\n",
    "\n",
    "# vectorize data into numerical values\n",
    "vectorizer = CountVectorizer()\n",
    "\n",
    "# vectorize all subsets\n",
    "X_training_vec = vectorizer.fit_transform(X_training)\n",
    "X_val_vec = vectorizer.transform(X_val)\n",
    "X_testing_vec = vectorizer.transform(X_testing)\n",
    "\n",
    "# assign name to classifier with k value of 49\n",
    "knn = KNeighborsClassifier(n_neighbors=49)  # You can adjust the number of neighbors\n",
    "\n",
    "# train knn model with the training set\n",
    "knn.fit(X_training_vec, y_training)\n",
    "\n",
    "# make a prediction with validation set\n",
    "y_pred_val = knn.predict(X_val_vec)\n",
    "\n",
    "# accuracy of validation\n",
    "validation_accuracy = accuracy_score(y_val, y_pred_val)\n",
    "print(\"Validation Accuracy of KNN: \", validation_accuracy)\n",
    "\n",
    "\n",
    "X_training_val = X_training.append(X_val)\n",
    "y_training_val = y_training.append(y_val)\n",
    "\n",
    "\n",
    "# vectorize training and validation sets\n",
    "vectorizer = CountVectorizer()\n",
    "X_training_val_vec = vectorizer.fit_transform(X_training_val)\n",
    "\n",
    "knn = KNeighborsClassifier(n_neighbors=49)  # You can adjust the number of neighbors\n",
    "\n",
    "# k-fold cross validation calculations evaluating accuracy scores \n",
    "kcv_scores = cross_val_score(knn, X_training_val_vec, y_training_val, cv=10, scoring='accuracy')\n",
    "\n",
    "# cross-validate the results\n",
    "print(\"K-Fold Cross-validation Scores:\", kcv_scores)\n",
    "\n",
    "# standard deviation and mean accuracy calculations for distributions\n",
    "mean_accuracy = kcv_scores.mean()\n",
    "std_accuracy = kcv_scores.std()\n",
    "\n",
    "print(f\"Mean Accuracy: {mean_accuracy:.2f}\")\n",
    "print(f\"Standard Deviation: {std_accuracy:.2f}\")\n",
    "\n",
    "# train knn with the validation and training data sets\n",
    "knn.fit(X_training_val_vec, y_training_val)\n",
    "\n",
    "# test data is vectorized to numerical form\n",
    "X_testing_vec = vectorizer.transform(X_testing)\n",
    "\n",
    "# knn predicts sentiment \n",
    "y_pred_test = knn.predict(X_testing_vec)\n",
    "\n",
    "# accuracy of test scores from analysing test set\n",
    "accuracy_level = accuracy_score(y_testing, y_pred_test)\n",
    "print(\"Testing Accuracy of KNN:\", accuracy_level)\n",
    "\n",
    "# fit model for final predictions\n",
    "knn.fit(X_training_val_vec, y_training_val)\n",
    "y_pred_test = knn.predict(X_testing_vec)\n",
    "\n",
    "# confusion maxtrix using the import \n",
    "confusion_matrix1 = confusion_matrix(y_testing, y_pred_test)\n",
    "\n",
    "# confusion matrix as a viridis heatmap (changed to make more visual)\n",
    "plt.figure(figsize=(8, 6))\n",
    "sns.heatmap(confusion_matrix1, annot=True, fmt='d', cmap='viridis', \n",
    "            xticklabels=knn.classes_, yticklabels=knn.classes_)\n",
    "plt.xlabel('Predicted Labels')\n",
    "plt.ylabel('True Labels')\n",
    "plt.title('Confusion Matrix for KNN Model')\n",
    "plt.show()\n",
    "\n",
    "# F1-Score calculations with weighted precision and recall\n",
    "f1 = f1_score(y_testing, y_pred_test, average='weighted')\n",
    "print(\"F1 Score of KNN:\", f1)\n",
    "\n",
    "# values for experimentation of k and the affect on the F1-Score\n",
    "k_values =[3, 11, 27, 49, 57]\n",
    "f1_scores =[0.63, 0.66, 0.69, 0.71, 0.69]\n",
    "\n",
    "plt.figure(figsize=(8, 6))\n",
    "plt.plot(k_values, f1_scores, marker='o', linestyle='-')  # line graphs\n",
    "plt.title('F1-Score Curve for Different k Values')\n",
    "plt.xlabel('Number of Neighbors (k)')\n",
    "plt.ylabel('F1-Score')\n",
    "plt.grid(True)\n",
    "plt.show()\n",
    "\n",
    "# ablation study to show how different processes affected the overall accuracy \n",
    "components_removed =['punctuation', 'stemming', 'html & stemming', 'capitals', 'labels', 'no pre-processing', 'no chnage']\n",
    "f1_score_changes =[0.70, 0.69, 0.65, 0.67, 0.61, 0.68, 0.71]\n",
    "\n",
    "# graphs plots the values above with circular point markers for each value (done as a line graph)\n",
    "plt.figure(figsize=(8, 6))\n",
    "plt.plot(components_removed, f1_score_changes, marker='o', linestyle='-')\n",
    "plt.title('F1-Score Curve for Different Components Removed')\n",
    "plt.xlabel('Components Removed')\n",
    "plt.ylabel('F1-Score')\n",
    "plt.grid(True)\n",
    "plt.show()\n"
   ]
  },
  {
   "cell_type": "code",
   "execution_count": null,
   "id": "87b4c364",
   "metadata": {},
   "outputs": [],
   "source": []
  }
 ],
 "metadata": {
  "kernelspec": {
   "display_name": "Python 3 (ipykernel)",
   "language": "python",
   "name": "python3"
  },
  "language_info": {
   "codemirror_mode": {
    "name": "ipython",
    "version": 3
   },
   "file_extension": ".py",
   "mimetype": "text/x-python",
   "name": "python",
   "nbconvert_exporter": "python",
   "pygments_lexer": "ipython3",
   "version": "3.9.12"
  }
 },
 "nbformat": 4,
 "nbformat_minor": 5
}
